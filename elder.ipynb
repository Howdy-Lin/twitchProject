{
 "cells": [
  {
   "cell_type": "code",
   "execution_count": 1,
   "id": "89aedbac-6385-4b52-904d-9dc1fac64ac5",
   "metadata": {},
   "outputs": [
    {
     "data": {
      "image/png": "[encoded data removed]",
      "text/plain": [
       "<Figure size 1200x200 with 1 Axes>"
      ]
     },
     "metadata": {},
     "output_type": "display_data"
    }
   ],
   "source": [
    "import pandas as pd\n",
    "df2=pd.read_csv(\"older_S07_rd1.csv\",header=1)\n",
    "import matplotlib.pyplot as plt\n",
    "plt.figure(figsize=(12, 2)) \n",
    "plt.plot(df2[\"Time\"],df2[\"Grip Force(g)\"])\n",
    "plt.show()"
   ]
  },
  {
   "cell_type": "code",
   "execution_count": 12,
   "id": "9f6119dd-9bf3-444b-81f2-1b2eeea498c1",
   "metadata": {},
   "outputs": [
    {
     "data": {
      "text/html": [
       "<div>\n",
       "<style scoped>\n",
       "    .dataframe tbody tr th:only-of-type {\n",
       "        vertical-align: middle;\n",
       "    }\n",
       "\n",
       "    .dataframe tbody tr th {\n",
       "        vertical-align: top;\n",
       "    }\n",
       "\n",
       "    .dataframe thead th {\n",
       "        text-align: right;\n",
       "    }\n",
       "</style>\n",
       "<table border=\"1\" class=\"dataframe\">\n",
       "  <thead>\n",
       "    <tr style=\"text-align: right;\">\n",
       "      <th></th>\n",
       "      <th>Time</th>\n",
       "      <th>Grip Force(g)</th>\n",
       "      <th>Acce.X (G)</th>\n",
       "      <th>Acce.Y (G)</th>\n",
       "      <th>Acce.Z (G)</th>\n",
       "      <th>Height (cm)</th>\n",
       "      <th>Mode</th>\n",
       "      <th>Trig</th>\n",
       "      <th>Assigned height(cm)</th>\n",
       "      <th>Unnamed: 9</th>\n",
       "    </tr>\n",
       "  </thead>\n",
       "  <tbody>\n",
       "    <tr>\n",
       "      <th>0</th>\n",
       "      <td>0</td>\n",
       "      <td>135.0</td>\n",
       "      <td>0.000</td>\n",
       "      <td>0.030</td>\n",
       "      <td>0.913</td>\n",
       "      <td>2.1</td>\n",
       "      <td>Auto</td>\n",
       "      <td>0</td>\n",
       "      <td>15.0</td>\n",
       "      <td>NaN</td>\n",
       "    </tr>\n",
       "    <tr>\n",
       "      <th>1</th>\n",
       "      <td>1</td>\n",
       "      <td>135.0</td>\n",
       "      <td>0.000</td>\n",
       "      <td>0.030</td>\n",
       "      <td>0.913</td>\n",
       "      <td>2.1</td>\n",
       "      <td>Auto</td>\n",
       "      <td>0</td>\n",
       "      <td>15.0</td>\n",
       "      <td>NaN</td>\n",
       "    </tr>\n",
       "    <tr>\n",
       "      <th>2</th>\n",
       "      <td>2</td>\n",
       "      <td>135.8</td>\n",
       "      <td>0.000</td>\n",
       "      <td>0.026</td>\n",
       "      <td>0.915</td>\n",
       "      <td>2.1</td>\n",
       "      <td>Auto</td>\n",
       "      <td>0</td>\n",
       "      <td>15.0</td>\n",
       "      <td>NaN</td>\n",
       "    </tr>\n",
       "    <tr>\n",
       "      <th>3</th>\n",
       "      <td>3</td>\n",
       "      <td>135.3</td>\n",
       "      <td>-0.003</td>\n",
       "      <td>0.034</td>\n",
       "      <td>0.904</td>\n",
       "      <td>2.1</td>\n",
       "      <td>Auto</td>\n",
       "      <td>0</td>\n",
       "      <td>15.0</td>\n",
       "      <td>NaN</td>\n",
       "    </tr>\n",
       "    <tr>\n",
       "      <th>4</th>\n",
       "      <td>4</td>\n",
       "      <td>138.6</td>\n",
       "      <td>-0.006</td>\n",
       "      <td>0.027</td>\n",
       "      <td>0.903</td>\n",
       "      <td>2.1</td>\n",
       "      <td>Auto</td>\n",
       "      <td>0</td>\n",
       "      <td>15.0</td>\n",
       "      <td>NaN</td>\n",
       "    </tr>\n",
       "    <tr>\n",
       "      <th>...</th>\n",
       "      <td>...</td>\n",
       "      <td>...</td>\n",
       "      <td>...</td>\n",
       "      <td>...</td>\n",
       "      <td>...</td>\n",
       "      <td>...</td>\n",
       "      <td>...</td>\n",
       "      <td>...</td>\n",
       "      <td>...</td>\n",
       "      <td>...</td>\n",
       "    </tr>\n",
       "    <tr>\n",
       "      <th>2995</th>\n",
       "      <td>2995</td>\n",
       "      <td>-1.1</td>\n",
       "      <td>0.015</td>\n",
       "      <td>0.040</td>\n",
       "      <td>0.913</td>\n",
       "      <td>2.0</td>\n",
       "      <td>Auto</td>\n",
       "      <td>0</td>\n",
       "      <td>15.0</td>\n",
       "      <td>NaN</td>\n",
       "    </tr>\n",
       "    <tr>\n",
       "      <th>2996</th>\n",
       "      <td>2996</td>\n",
       "      <td>-1.1</td>\n",
       "      <td>0.015</td>\n",
       "      <td>0.040</td>\n",
       "      <td>0.913</td>\n",
       "      <td>2.0</td>\n",
       "      <td>Auto</td>\n",
       "      <td>0</td>\n",
       "      <td>15.0</td>\n",
       "      <td>NaN</td>\n",
       "    </tr>\n",
       "    <tr>\n",
       "      <th>2997</th>\n",
       "      <td>2997</td>\n",
       "      <td>-0.6</td>\n",
       "      <td>0.036</td>\n",
       "      <td>0.074</td>\n",
       "      <td>0.940</td>\n",
       "      <td>2.0</td>\n",
       "      <td>Auto</td>\n",
       "      <td>0</td>\n",
       "      <td>15.0</td>\n",
       "      <td>NaN</td>\n",
       "    </tr>\n",
       "    <tr>\n",
       "      <th>2998</th>\n",
       "      <td>2998</td>\n",
       "      <td>-0.6</td>\n",
       "      <td>0.036</td>\n",
       "      <td>0.074</td>\n",
       "      <td>0.940</td>\n",
       "      <td>2.2</td>\n",
       "      <td>Auto</td>\n",
       "      <td>0</td>\n",
       "      <td>15.0</td>\n",
       "      <td>NaN</td>\n",
       "    </tr>\n",
       "    <tr>\n",
       "      <th>2999</th>\n",
       "      <td>2999</td>\n",
       "      <td>-1.3</td>\n",
       "      <td>-0.010</td>\n",
       "      <td>0.073</td>\n",
       "      <td>0.918</td>\n",
       "      <td>2.2</td>\n",
       "      <td>Auto</td>\n",
       "      <td>0</td>\n",
       "      <td>15.0</td>\n",
       "      <td>NaN</td>\n",
       "    </tr>\n",
       "  </tbody>\n",
       "</table>\n",
       "<p>3000 rows × 10 columns</p>\n",
       "</div>"
      ],
      "text/plain": [
       "      Time  Grip Force(g)  Acce.X (G)  Acce.Y (G)  Acce.Z (G)  Height (cm)  \\\n",
       "0        0          135.0       0.000       0.030       0.913          2.1   \n",
       "1        1          135.0       0.000       0.030       0.913          2.1   \n",
       "2        2          135.8       0.000       0.026       0.915          2.1   \n",
       "3        3          135.3      -0.003       0.034       0.904          2.1   \n",
       "4        4          138.6      -0.006       0.027       0.903          2.1   \n",
       "...    ...            ...         ...         ...         ...          ...   \n",
       "2995  2995           -1.1       0.015       0.040       0.913          2.0   \n",
       "2996  2996           -1.1       0.015       0.040       0.913          2.0   \n",
       "2997  2997           -0.6       0.036       0.074       0.940          2.0   \n",
       "2998  2998           -0.6       0.036       0.074       0.940          2.2   \n",
       "2999  2999           -1.3      -0.010       0.073       0.918          2.2   \n",
       "\n",
       "      Mode  Trig  Assigned height(cm)  Unnamed: 9  \n",
       "0     Auto     0                 15.0         NaN  \n",
       "1     Auto     0                 15.0         NaN  \n",
       "2     Auto     0                 15.0         NaN  \n",
       "3     Auto     0                 15.0         NaN  \n",
       "4     Auto     0                 15.0         NaN  \n",
       "...    ...   ...                  ...         ...  \n",
       "2995  Auto     0                 15.0         NaN  \n",
       "2996  Auto     0                 15.0         NaN  \n",
       "2997  Auto     0                 15.0         NaN  \n",
       "2998  Auto     0                 15.0         NaN  \n",
       "2999  Auto     0                 15.0         NaN  \n",
       "\n",
       "[3000 rows x 10 columns]"
      ]
     },
     "execution_count": 12,
     "metadata": {},
     "output_type": "execute_result"
    }
   ],
   "source": [
    "df2"
   ]
  },
  {
   "cell_type": "code",
   "execution_count": 47,
   "id": "8ed09a5a-a23a-4c29-b067-ed5c491b663f",
   "metadata": {},
   "outputs": [
    {
     "name": "stdout",
     "output_type": "stream",
     "text": [
      "751.9 938\n"
     ]
    }
   ],
   "source": [
    "subset = df2[\"Grip Force(g)\"][600:1000]\n",
    "grip_force_data = list(df2[\"Grip Force(g)\"])\n",
    "max_value = max(subset)\n",
    "max_index = grip_force_data.index(max_value) + 1\n",
    "print(max_value, max_index)\n",
    "T2 = max_index"
   ]
  },
  {
   "cell_type": "code",
   "execution_count": 48,
   "id": "7784285d-06fe-4505-a317-d34712e0b61c",
   "metadata": {},
   "outputs": [
    {
     "data": {
      "text/plain": [
       "<function matplotlib.pyplot.show(close=None, block=None)>"
      ]
     },
     "execution_count": 48,
     "metadata": {},
     "output_type": "execute_result"
    },
    {
     "data": {
      "image/png": "[encoded data removed]",
      "text/plain": [
       "<Figure size 1200x200 with 1 Axes>"
      ]
     },
     "metadata": {},
     "output_type": "display_data"
    }
   ],
   "source": [
    "import pandas as pd\n",
    "import matplotlib.pyplot as plt\n",
    "from scipy.signal import find_peaks\n",
    "\n",
    "# Load the data\n",
    "df2 = pd.read_csv(\"older_S07_rd1.csv\", header=1)\n",
    "\n",
    "# Finding peaks in the \"Grip Force(g)\" column\n",
    "peaks, _ = find_peaks(df2[\"Grip Force(g)\"][800:1001])  # Adjusting indices for the desired range\n",
    "peaks += 800  # Adjust indices since we sliced the DataFrame\n",
    "\n",
    "# Plot the data\n",
    "plt.figure(figsize=(12, 2))\n",
    "plt.plot(df2[\"Time\"], df2[\"Grip Force(g)\"])\n",
    "plt.plot(df2[\"Time\"][peaks], df2[\"Grip Force(g)\"][peaks], \"x\")\n",
    "plt.show"
   ]
  },
  {
   "cell_type": "code",
   "execution_count": 49,
   "id": "683bf828-ff93-4070-bcb2-f9685e54e737",
   "metadata": {},
   "outputs": [
    {
     "name": "stdout",
     "output_type": "stream",
     "text": [
      "882\n"
     ]
    }
   ],
   "source": [
    "import pandas as pd\n",
    "\n",
    "# Create a pandas Series from your list of values\n",
    "df_height= df2[\"Height (cm)\"]\n",
    "# Use boolean indexing to find the first index where the value is greater than 15\n",
    "T1 = df_height.gt(15).idxmax()\n",
    "\n",
    "print(T1)"
   ]
  },
  {
   "cell_type": "code",
   "execution_count": 50,
   "id": "757422aa-6236-4b4e-af1d-f9bdcc2586b2",
   "metadata": {},
   "outputs": [
    {
     "data": {
      "text/plain": [
       "56"
      ]
     },
     "execution_count": 50,
     "metadata": {},
     "output_type": "execute_result"
    }
   ],
   "source": [
    "T2-T1"
   ]
  },
  {
   "cell_type": "code",
   "execution_count": null,
   "id": "04785595-343f-450f-b834-f46deb647866",
   "metadata": {},
   "outputs": [],
   "source": []
  }
 ],
 "metadata": {
  "kernelspec": {
   "display_name": "Python 3 (ipykernel)",
   "language": "python",
   "name": "python3"
  },
  "language_info": {
   "codemirror_mode": {
    "name": "ipython",
    "version": 3
   },
   "file_extension": ".py",
   "mimetype": "text/x-python",
   "name": "python",
   "nbconvert_exporter": "python",
   "pygments_lexer": "ipython3",
   "version": "3.8.7"
  }
 },
 "nbformat": 4,
 "nbformat_minor": 5
}
